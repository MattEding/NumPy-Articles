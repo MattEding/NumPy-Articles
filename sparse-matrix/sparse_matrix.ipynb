{
 "cells": [
  {
   "cell_type": "code",
   "execution_count": 1,
   "metadata": {},
   "outputs": [],
   "source": [
    "from functools import partial\n",
    "from pathlib import Path\n",
    "\n",
    "import matplotlib.pyplot as plt\n",
    "import numpy as np\n",
    "from scipy import sparse\n",
    "from PIL import Image"
   ]
  },
  {
   "cell_type": "code",
   "execution_count": 14,
   "metadata": {},
   "outputs": [],
   "source": [
    "#: plotting functions\n",
    "dashed_line = partial(plt.plot, color='black', linestyle='--', linewidth=3)\n",
    "highlight_line = partial(plt.plot, color='black', linestyle='-', linewidth=9)\n",
    "rect_plt = partial(plt.Rectangle, width=1, height=1, edgecolor='black', linewidth=3)\n",
    "highlight_rect = partial(rect_plt, linewidth=9)\n",
    "text_plt = partial(plt.text, fontweight=100, fontsize=30)\n",
    "vert_text = partial(text_plt, rotation=90, horizontalalignment='right', verticalalignment='center')\n",
    "horz_text = partial(text_plt, horizontalalignment='center', verticalalignment='bottom')\n",
    "rect_text = partial(text_plt, horizontalalignment='center', verticalalignment='center')\n",
    "\n",
    "\n",
    "def coo_plot(coo, darkcolor, lightcolor, fontsize=30, figsize=(20, 10)):\n",
    "    plt.figure(figsize=figsize)\n",
    "    h, w = coo.shape\n",
    "    \n",
    "    def plot_static_img():\n",
    "        plt.figure(figsize=figsize)\n",
    "        #: dashed array grid\n",
    "        \n",
    "        for i in range(h + 1):\n",
    "            dashed_line([0, w], [i, i])\n",
    "\n",
    "        for j in range(w + 1):\n",
    "            dashed_line([j, j], [0, h])\n",
    "\n",
    "        #: fill data values in array format\n",
    "        for x, y, val in zip(coo.col, coo.row, coo.data):\n",
    "            x, y = xy = (x, h - y - 1)\n",
    "            rect = rect_plt(xy, facecolor=lightcolor)\n",
    "            plt.gca().add_patch(rect)\n",
    "            rect_text(x + 0.5, y + 0.5, str(val))\n",
    "\n",
    "        #: fill sparse format\n",
    "        for i, (label, info) in enumerate(zip(['Row', 'Column', 'Data'], [coo.row, coo.col, coo.data])):\n",
    "            text_plt((w + 1), (h - 0.75 - 2 * i), label)\n",
    "            for j, val in enumerate(info):\n",
    "                x, y = xy = ((w + j + 1), (h - 2 * (i + 1)))\n",
    "                rect = rect_plt(xy, facecolor=lightcolor)\n",
    "                plt.gca().add_patch(rect)\n",
    "                rect_text(x + 0.5, y + 0.5, str(val))\n",
    "\n",
    "        #: side labels\n",
    "        vert_text(-1, (h / 2), 'Row')\n",
    "        for i in reversed(range(h)):\n",
    "            vert_text(0, (h - i - 0.5), str(i))\n",
    "\n",
    "        horz_text((w / 2), (h + 1), 'Column')\n",
    "        for i in range(w):\n",
    "            horz_text(i + 0.5, h, str(i))\n",
    "            \n",
    "         #: format graph\n",
    "        plt.text(0, -0.5, '© Matt Eding')\n",
    "        plt.axis('equal')\n",
    "        plt.axis('off')\n",
    "\n",
    "    #: highlight relationships\n",
    "    for i, (r, c) in enumerate(zip(row, col)):\n",
    "        for a, alpha in enumerate(np.r_[0:1:10j, [1]*5, 1:0:10j]):\n",
    "            plot_static_img()\n",
    "            for j in range(3):\n",
    "                xy = ((w + i + 1), (h - 2 * (j + 1)))\n",
    "                rect = highlight_rect(xy, facecolor=darkcolor, alpha=alpha)  # sparse part\n",
    "                plt.gca().add_patch(rect)\n",
    "\n",
    "            xy = (c, (h - r - 1))\n",
    "            rect = highlight_rect(xy, facecolor=darkcolor, alpha=alpha)  # array part\n",
    "            plt.gca().add_patch(rect)\n",
    "\n",
    "            highlight_line([0, c], [h - r - 0.5] * 2, alpha=alpha)  # horz line\n",
    "            highlight_line([c + 0.5] * 2, [h - r, h], alpha=alpha)  # vert line\n",
    "            plt.savefig(f'coo_{i:0>4}_{a:0>4}.png')\n",
    "            plt.close()  # free memory\n",
    "    \n",
    "    #: make GIF and remove temp PNG's\n",
    "    cwd = Path.cwd()\n",
    "    paths = sorted(p for p in cwd.iterdir() if 'png' in p.suffix)\n",
    "\n",
    "    imgs = [Image.open(p) for p in paths]\n",
    "    for _ in range(10):\n",
    "        imgs.insert(0, imgs[0])  # make start last longer\n",
    "    imgs[0].save('coo.gif', save_all=True, append_images=imgs, duration=100, loop=0)\n",
    "    \n",
    "    for p in paths:\n",
    "        p.unlink()"
   ]
  },
  {
   "cell_type": "code",
   "execution_count": 15,
   "metadata": {},
   "outputs": [
    {
     "data": {
      "text/plain": [
       "<Figure size 1440x720 with 0 Axes>"
      ]
     },
     "metadata": {},
     "output_type": "display_data"
    }
   ],
   "source": [
    "row = [1, 3, 0, 2, 4]\n",
    "col = [1, 4, 2, 3, 3]\n",
    "data = [2, 4, 9, 1, 4]\n",
    "coo = sparse.coo_matrix((data, (row, col)), shape=(6, 7))\n",
    "coo_plot(coo, darkcolor='orchid', lightcolor='plum')"
   ]
  },
  {
   "cell_type": "code",
   "execution_count": null,
   "metadata": {},
   "outputs": [],
   "source": []
  }
 ],
 "metadata": {
  "kernelspec": {
   "display_name": "Python 3",
   "language": "python",
   "name": "python3"
  },
  "language_info": {
   "codemirror_mode": {
    "name": "ipython",
    "version": 3
   },
   "file_extension": ".py",
   "mimetype": "text/x-python",
   "name": "python",
   "nbconvert_exporter": "python",
   "pygments_lexer": "ipython3",
   "version": "3.6.8"
  }
 },
 "nbformat": 4,
 "nbformat_minor": 2
}
