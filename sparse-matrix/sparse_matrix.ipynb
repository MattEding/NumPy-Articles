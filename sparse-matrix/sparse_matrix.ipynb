{
 "cells": [
  {
   "cell_type": "code",
   "execution_count": 1,
   "metadata": {},
   "outputs": [],
   "source": [
    "from functools import partial\n",
    "import itertools\n",
    "from pathlib import Path\n",
    "\n",
    "import matplotlib.pyplot as plt\n",
    "import numpy as np\n",
    "from scipy import sparse\n",
    "from PIL import Image, ImageChops"
   ]
  },
  {
   "cell_type": "code",
   "execution_count": 2,
   "metadata": {},
   "outputs": [],
   "source": [
    "def trim(im):\n",
    "    bg = Image.new(im.mode, im.size, im.getpixel((0,0)))\n",
    "    diff = ImageChops.difference(im, bg)\n",
    "    diff = ImageChops.add(diff, diff, 2.0, -100)\n",
    "    bbox = diff.getbbox()\n",
    "    if bbox:\n",
    "        return im.crop(bbox)\n",
    "    else:\n",
    "        raise Warning('no bbox; image not cropped')\n",
    "        return im"
   ]
  },
  {
   "cell_type": "code",
   "execution_count": 289,
   "metadata": {},
   "outputs": [],
   "source": [
    "#: plotting functions\n",
    "FONTSIZE = 24  # fontsize(30) with figsize(20, 10); fontsize(24) with figsize(16, 8)\n",
    "FIGSIZE = (16, 8)\n",
    "dashed_line = partial(plt.plot, color='black', linestyle='--', linewidth=3)\n",
    "highlight_line = partial(plt.plot, color='black', linestyle='-', linewidth=9)\n",
    "text_plot = partial(plt.text, fontweight=100, fontsize=FONTSIZE)\n",
    "vert_text = partial(text_plot, rotation=90, horizontalalignment='right', verticalalignment='center')\n",
    "horz_text = partial(text_plot, horizontalalignment='center', verticalalignment='bottom')\n",
    "\n",
    "def square_text(xy, s, **kwargs):\n",
    "    x, y = xy\n",
    "    text_plot(x + 0.5, y + 0.5, s, horizontalalignment='center', verticalalignment='center', **kwargs)\n",
    "    return None\n",
    "    \n",
    "\n",
    "def square_plot(xy, val, color, **kwargs):\n",
    "    square = plt.Rectangle(xy, facecolor=color, \n",
    "                           width=1, height=1, edgecolor='black', linewidth=3, **kwargs)\n",
    "    plt.gca().add_patch(square)\n",
    "    square_text(xy, str(val))\n",
    "    return None\n",
    "    \n",
    "\n",
    "def highlight_plot(xy, color, alpha=1, width=1, height=1, **kwargs):\n",
    "    rect = plt.Rectangle(xy, facecolor=color, alpha=alpha, width=width, height=height, \n",
    "                         edgecolor='black', linewidth=9, **kwargs)\n",
    "    plt.gca().add_patch(rect)\n",
    "    return None\n",
    "\n",
    "\n",
    "def dashed_grid(width, height):\n",
    "    for i in range(height + 1):\n",
    "        dashed_line([0, width], [i, i])\n",
    "    for j in range(width + 1):\n",
    "        dashed_line([j, j], [0, height])\n",
    "    return None\n",
    "\n",
    "        \n",
    "def fill_coo_array(mtrx, color):\n",
    "    coo = sparse.coo_matrix(mtrx)\n",
    "    h, w = coo.shape\n",
    "    for x, y, val in zip(coo.col, coo.row, coo.data):\n",
    "        xy = (x, (h - y - 1))\n",
    "        square_plot(xy, val, color)\n",
    "    return None\n",
    "        \n",
    "\n",
    "def format_graph(sparse_mtrx, fontsize, offset_y=0):\n",
    "    h, w = sparse_mtrx.shape\n",
    "    title = sparse_mtrx.format.upper()\n",
    "    text_plot((w + 1), (h + 0.1 + offset_y), title, verticalalignment='bottom', fontsize=(fontsize * 3))\n",
    "    plt.text(0, -0.5, '© Matt Eding')\n",
    "    plt.axis('equal')\n",
    "    plt.axis('off')\n",
    "    return None\n",
    "\n",
    "\n",
    "def save_step(filename, step, clear=True):\n",
    "    plt.savefig(f'{filename}_{step:0>5}.png')\n",
    "    if clear:\n",
    "        plt.close()  # free memory\n",
    "    return None\n",
    "\n",
    "\n",
    "def make_gif(filename, duration, start_extra=0, end_extra=0, crop=False):\n",
    "    cwd = Path.cwd()\n",
    "    paths = sorted(p for p in cwd.iterdir() if 'png' in p.suffix)\n",
    "\n",
    "    if crop:\n",
    "        imgs = [trim(Image.open(p)) for p in paths]\n",
    "    else:\n",
    "        imgs = [Image.open(p) for p in paths]\n",
    "\n",
    "    for _ in range(start_extra):\n",
    "        imgs.insert(0, imgs[0])\n",
    "        \n",
    "    for _ in range(end_extra):\n",
    "        imgs.append(imgs[-1])\n",
    "        \n",
    "    imgs[0].save(f'{filename}.gif', save_all=True, append_images=imgs, duration=duration, loop=0)\n",
    "    \n",
    "    for p in paths:\n",
    "        p.unlink()\n",
    "    \n",
    "    return None"
   ]
  },
  {
   "cell_type": "markdown",
   "metadata": {},
   "source": [
    "# Sparse vs Dense"
   ]
  },
  {
   "cell_type": "code",
   "execution_count": 200,
   "metadata": {},
   "outputs": [],
   "source": [
    "def sparse_dense_plot(mtrx, color, duration, filename='sparse_dense', fontsize=FONTSIZE, figsize=FIGSIZE):\n",
    "    plt.figure(figsize=figsize)\n",
    "    h, w = mtrx.shape\n",
    "    step_counter = itertools.count()\n",
    "    \n",
    "    def plot_static_img():\n",
    "        plt.figure(figsize=figsize)\n",
    "\n",
    "        #: fill sparse format\n",
    "        dashed_grid(w, h)\n",
    "        fill_coo_array(mtrx, color)\n",
    "\n",
    "        #: fill dense format\n",
    "        for y, row in enumerate(mtrx):\n",
    "            for x, val in enumerate(row):\n",
    "                xy = ((w + x + 1), (h - y - 1))\n",
    "                square_plot(xy, val, color)\n",
    "        \n",
    "        text_plot((w / 2), (h + 0.1), 's  p  a  r  s  e', ha='center', va='bottom', fontsize=(fontsize * 3), fontfamily='cursive')\n",
    "        text_plot((1.5 * w + 1), (h + 0.1), 'DENSE', ha='center', va='bottom', fontsize=(fontsize * 3), fontweight='black')\n",
    "        plt.text(0, -0.5, '© Matt Eding')\n",
    "        plt.axis('equal')\n",
    "        plt.axis('off')\n",
    "        return None\n",
    "    \n",
    "    \n",
    "    #: highlight animations\n",
    "    mx = 0.5\n",
    "    ls = np.logspace(1, 0, 10)  # smooth fadeaway to be less jarring\n",
    "    ls -= ls.min()\n",
    "    ls /= ls.max()\n",
    "    ls *= mx\n",
    "    for alpha in np.r_[0:mx:10j, [mx] * 20, ls]:\n",
    "        plot_static_img()\n",
    "        for y, row in enumerate(mtrx):\n",
    "            for x, val in enumerate(row):\n",
    "                if not val:\n",
    "                    xy = (x, (h - y - 1))\n",
    "                    square_text(xy, str(val), alpha=alpha)\n",
    "                    \n",
    "                    xy = ((w + x + 1), (h - y - 1))\n",
    "                    highlight_plot(xy, 'none', alpha=alpha*2)\n",
    "                    \n",
    "        save_step(filename, next(step_counter))\n",
    "        \n",
    "    make_gif(filename, duration, start_extra=20)"
   ]
  },
  {
   "cell_type": "code",
   "execution_count": 202,
   "metadata": {},
   "outputs": [
    {
     "data": {
      "text/plain": [
       "<Figure size 1152x576 with 0 Axes>"
      ]
     },
     "metadata": {},
     "output_type": "display_data"
    }
   ],
   "source": [
    "mtrx = (sparse.random(5, 7, density=0.4, random_state=123) * 10).astype(int).toarray()\n",
    "sparse_dense_plot(mtrx, 'darkturquoise', 100)"
   ]
  },
  {
   "cell_type": "markdown",
   "metadata": {},
   "source": [
    "# COO"
   ]
  },
  {
   "cell_type": "code",
   "execution_count": 142,
   "metadata": {},
   "outputs": [],
   "source": [
    "def coo_plot(mtrx, darkcolor, lightcolor, duration, filename='coo', fontsize=FONTSIZE, figsize=FIGSIZE):\n",
    "    plt.figure(figsize=figsize)\n",
    "    coo = sparse.coo_matrix(mtrx)\n",
    "    h, w = coo.shape\n",
    "    step_counter = itertools.count()\n",
    "    \n",
    "    def plot_static_img():\n",
    "        plt.figure(figsize=figsize)\n",
    "        dashed_grid(w, h)\n",
    "        fill_coo_array(coo, lightcolor)\n",
    "\n",
    "        #: fill sparse format\n",
    "        for i, (label, info) in enumerate(zip(['Row', 'Column', 'Data'], [coo.row, coo.col, coo.data])):\n",
    "            text_plot((w + 1), (h - 0.75 - 2 * i), label)\n",
    "            for j, val in enumerate(info):\n",
    "                xy = ((w + j + 1), (h - 2 * (i + 1)))\n",
    "                square_plot(xy, val, lightcolor)\n",
    "\n",
    "        #: side labels\n",
    "        vert_text(-1, (h / 2), 'Row')\n",
    "        for i in reversed(range(h)):\n",
    "            vert_text(0, (h - i - 0.5), str(i))\n",
    "\n",
    "        horz_text((w / 2), (h + 1), 'Column')\n",
    "        for i in range(w):\n",
    "            horz_text(i + 0.5, h, str(i))\n",
    "            \n",
    "        format_graph(coo, fontsize)\n",
    "        return None\n",
    "    \n",
    "\n",
    "    #: animate highlights\n",
    "    for i, (r, c) in enumerate(zip(coo.row, coo.col)):\n",
    "        for alpha in np.r_[0:1:10j, [1] * 10, 1:0:10j]:\n",
    "            plot_static_img()\n",
    "            for j in range(3):\n",
    "                xy = ((w + i + 1), (h - 2 * (j + 1)))\n",
    "                highlight_plot(xy, darkcolor, alpha)  # sparse part\n",
    "\n",
    "            xy = (c, (h - r - 1))\n",
    "            highlight_plot(xy, darkcolor, alpha)  # array part\n",
    "            \n",
    "            highlight_line([0, c], [h - r - 0.5] * 2, alpha=alpha)  # horz line\n",
    "            highlight_line([c + 0.5] * 2, [h - r, h], alpha=alpha)  # vert line\n",
    "            \n",
    "            save_step(filename, next(step_counter))\n",
    "    \n",
    "    make_gif(filename, duration, start_extra=10)"
   ]
  },
  {
   "cell_type": "code",
   "execution_count": 132,
   "metadata": {},
   "outputs": [
    {
     "data": {
      "text/plain": [
       "<Figure size 1152x576 with 0 Axes>"
      ]
     },
     "metadata": {},
     "output_type": "display_data"
    }
   ],
   "source": [
    "row = [1, 3, 0, 2, 4]\n",
    "col = [1, 4, 2, 3, 3]\n",
    "data = [2, 5, 9, 1, 6]\n",
    "coo = sparse.coo_matrix((data, (row, col)), shape=(6, 7))\n",
    "coo_plot(coo, darkcolor='orchid', lightcolor='plum', duration=100)"
   ]
  },
  {
   "cell_type": "markdown",
   "metadata": {},
   "source": [
    "# LIL"
   ]
  },
  {
   "cell_type": "code",
   "execution_count": 304,
   "metadata": {},
   "outputs": [],
   "source": [
    "def lil_plot(mtrx, darkcolor, lightcolor, duration, filename='lil', fontsize=FONTSIZE, figsize=FIGSIZE):\n",
    "    plt.figure(figsize=figsize)\n",
    "    lil = sparse.lil_matrix(mtrx)\n",
    "    h, w = lil.shape\n",
    "    step_counter = itertools.count()\n",
    "    \n",
    "    def plot_static_img():\n",
    "        plt.figure(figsize=figsize)\n",
    "        dashed_grid(w, h)\n",
    "        fill_coo_array(lil, lightcolor)\n",
    "\n",
    "        #: fill sparse format\n",
    "        rowlen = len(max(lil.data, key=len)) + 1\n",
    "        for i, (label, info) in enumerate(zip(['Rows', 'Data'], [lil.rows, lil.data])):\n",
    "            \n",
    "            text_plot((w + 1 + rowlen * (i)), (h - 0.75 + 1), label)\n",
    "            print(i, info)\n",
    "            for y, row in enumerate(info):\n",
    "                for x, val in enumerate(row):\n",
    "                    xy = ((w + x + 1 + rowlen * (i)), (h - y - 1))\n",
    "                    square_plot(xy, val, lightcolor)\n",
    "                    \n",
    "        #: side labels\n",
    "        vert_text(-1, (h / 2), 'Row')\n",
    "        for i in reversed(range(h)):\n",
    "            vert_text(0, (h - i - 0.5), str(i))\n",
    "\n",
    "        horz_text((w / 2), (h + 1), 'Column')\n",
    "        for i in range(w):\n",
    "            horz_text(i + 0.5, h, str(i))\n",
    "            \n",
    "        format_graph(lil, fontsize, offset_y=1)\n",
    "        return None\n",
    "    \n",
    "    \n",
    "    plot_static_img()"
   ]
  },
  {
   "cell_type": "code",
   "execution_count": 312,
   "metadata": {},
   "outputs": [
    {
     "name": "stdout",
     "output_type": "stream",
     "text": [
      "0 [list([0, 2, 4]) list([1, 2]) list([2]) list([0, 2, 3, 4]) list([2, 4])\n",
      " list([2])]\n",
      "1 [list([8, 1, -1]) list([8, 2]) list([3]) list([-2, 4, 8, -2]) list([5, 8])\n",
      " list([6])]\n"
     ]
    },
    {
     "data": {
      "text/plain": [
       "<Figure size 1152x576 with 0 Axes>"
      ]
     },
     "metadata": {},
     "output_type": "display_data"
    },
    {
     "data": {
      "image/png": "[encoded data removed]",
      "text/plain": [
       "<Figure size 1152x576 with 1 Axes>"
      ]
     },
     "metadata": {
      "needs_background": "light"
     },
     "output_type": "display_data"
    }
   ],
   "source": [
    "h, w = 6, 5\n",
    "lil = sparse.lil_matrix((h, w), dtype=int)\n",
    "lil[(0, -1)] = -1  # set individual point\n",
    "lil[3, (0, -1)] = np.ones(2) - 3  # set two points\n",
    "lil.setdiag(8)  # set main diagonal\n",
    "lil[:, 2] = np.arange(h)[:, np.newaxis] + 1  # set column\n",
    "lil_plot(lil, 'red', 'orange', 100)"
   ]
  },
  {
   "cell_type": "code",
   "execution_count": null,
   "metadata": {},
   "outputs": [],
   "source": [
    "# print(repr(lil.data), end='\\n\\n')\n",
    "# print(repr(lil.rows), end='\\n\\n')\n",
    "# print(repr(lil.toarray()))"
   ]
  },
  {
   "cell_type": "markdown",
   "metadata": {},
   "source": [
    "# CSR"
   ]
  },
  {
   "cell_type": "code",
   "execution_count": 133,
   "metadata": {},
   "outputs": [],
   "source": [
    "def csr_plot(mtrx, darkcolor, lightcolor, duration, filename='csr', fontsize=FONTSIZE, figsize=FIGSIZE):\n",
    "    plt.figure(figsize=figsize)\n",
    "    csr = sparse.csr_matrix(mtrx)\n",
    "    h, w = csr.shape\n",
    "    step_counter = itertools.count()\n",
    "    \n",
    "    def plot_static_img():\n",
    "        plt.figure(figsize=figsize)\n",
    "        dashed_grid(w, h)\n",
    "        fill_coo_array(csr, lightcolor)\n",
    "        \n",
    "        #: fill sparse format\n",
    "        text_plot((w + 1), (h - 0.75), 'Index Pointers')\n",
    "        for j, val in enumerate(csr.indptr):\n",
    "            xy = ((w + j + 1), (h - 2))\n",
    "            square_plot(xy, val, lightcolor)\n",
    "                \n",
    "        for i, (label, info) in enumerate(zip(['Indices', 'Data'], [csr.indices, csr.data])):\n",
    "            text_plot((w + 1), (h - 0.75 - 2 * i - 3), label)\n",
    "            for j, val in enumerate(info):\n",
    "                xy = ((w + j + 1), (h - 2 * (i + 1)) - 3)\n",
    "                square_plot(xy, val, lightcolor)\n",
    "        \n",
    "        #: side labels\n",
    "        vert_text(-1, (h / 2), 'Pointer')\n",
    "        for i in reversed(range(h)):\n",
    "            vert_text(0, (h - i - 0.5), str(i))\n",
    "        \n",
    "        horz_text((w / 2), (h + 1), 'Index')\n",
    "        for i in range(w):\n",
    "            horz_text(i + 0.5, h, str(i))\n",
    "        \n",
    "        format_graph(csr, fontsize)\n",
    "        return None\n",
    "        \n",
    "        \n",
    "    def highlight_dashed_dotted(alpha=1):\n",
    "        plot_static_img()\n",
    "        xy = np.array([(w + 1 + i), (h - 2)])\n",
    "        highlight_plot(xy, darkcolor, alpha=alpha, width=2)  # pointer\n",
    "        square_text(xy + [0.5, -1], f'Row: {i}', ha='center', fontsize=(fontsize / 2), alpha=alpha)\n",
    "        square_text(xy + [0.5, -1.5], f'NNZ: {size}', ha='center', fontsize=(fontsize / 2), alpha=alpha)\n",
    "\n",
    "        xy = (0, (h - i - 1))\n",
    "        highlight_plot(xy, color='none', alpha=alpha, width=w, linestyle='-.')  # array row\n",
    "\n",
    "        for n in range(2):\n",
    "            xy = np.array([(w + 1 + pos), (h - 2 * (n + 2) - 1)])\n",
    "            ls = '-.' if size else ':'\n",
    "            highlight_plot(xy, color='none', alpha=alpha, width=size, linestyle=ls)  # indices and data group\n",
    "        return None\n",
    "    \n",
    "    \n",
    "    plot_static_img()\n",
    "    save_step(filename, next(step_counter))\n",
    "        \n",
    "    #: animate highlights\n",
    "    alphas = np.r_[0:1:10j, [1] * 10, 1:0:10j]\n",
    "    pos = 0\n",
    "    for i, (ptr_l, ptr_r) in enumerate(zip(csr.indptr, csr.indptr[1:])):\n",
    "        size = ptr_r - ptr_l\n",
    "        indices = csr.indices[pos:pos + size]\n",
    "    \n",
    "        for alpha in alphas[:alphas.size // 3 * 2]:\n",
    "            highlight_dashed_dotted(alpha)\n",
    "            save_step(filename, next(step_counter))\n",
    "        \n",
    "        for m, idx in enumerate(indices):\n",
    "            for alpha in alphas:\n",
    "                highlight_dashed_dotted(alpha=1)\n",
    "                for n in range(2):\n",
    "                    xy = np.array([(w + 1 + pos), (h - 2 * (n + 2) - 1)])\n",
    "                    highlight_plot(xy + [m, 0], darkcolor, alpha)  # index and datum element\n",
    "                    highlight_plot([idx, h - i - 1], darkcolor, alpha)  # array element part\n",
    "                highlight_line([idx + 0.5] * 2, [h - i, h], alpha=alpha)  # vert line\n",
    "                save_step(filename, next(step_counter))\n",
    "                \n",
    "        for alpha in alphas[alphas.size // 3:]:\n",
    "            highlight_dashed_dotted(alpha)\n",
    "            save_step(filename, next(step_counter))\n",
    "                    \n",
    "        pos += size\n",
    "        \n",
    "    make_gif(filename, duration, start_extra=20)"
   ]
  },
  {
   "cell_type": "code",
   "execution_count": 134,
   "metadata": {},
   "outputs": [
    {
     "data": {
      "text/plain": [
       "<Figure size 1152x576 with 0 Axes>"
      ]
     },
     "metadata": {},
     "output_type": "display_data"
    }
   ],
   "source": [
    "indptr = np.array([0, 2, 3, 3, 3, 6, 6, 7])\n",
    "indices = np.array([0, 2, 2, 2, 3, 4, 3])\n",
    "data = np.array([8, 2, 5, 7, 1, 2, 9])\n",
    "csr = sparse.csr_matrix((data, indices, indptr))\n",
    "csr_plot(csr, darkcolor='#EE7600', lightcolor='orange', duration=75)"
   ]
  },
  {
   "cell_type": "markdown",
   "metadata": {},
   "source": [
    "# DIA"
   ]
  },
  {
   "cell_type": "code",
   "execution_count": 135,
   "metadata": {},
   "outputs": [],
   "source": [
    "def dia_plot(mtrx, darkcolor, lightcolor, duration, filename='dia', fontsize=FONTSIZE, figsize=FIGSIZE):\n",
    "    plt.figure(figsize=figsize)\n",
    "    dia = sparse.dia_matrix(mtrx)\n",
    "    h, w = dia.shape\n",
    "    step_counter = itertools.count()\n",
    "    \n",
    "    def plot_static_img():\n",
    "        plt.figure(figsize=figsize)\n",
    "        dashed_grid(w, h)\n",
    "        fill_coo_array(dia, lightcolor)\n",
    "\n",
    "        #: fill sparse format\n",
    "        text_plot((w + 1), (h - 0.75), 'Offsets')  # offsets\n",
    "        for i, (val) in enumerate(dia.offsets):\n",
    "            xy = ((w + i + 1), (h - 2))\n",
    "            square_plot(xy, val, lightcolor)\n",
    "        \n",
    "        text_plot((w + 1), (h - 2.75), 'Data')  # data\n",
    "        for i, row in enumerate(dia.data):\n",
    "            for j, val in enumerate(row):\n",
    "                xy = ((w + j + 1), (h - i - 4))\n",
    "                square_plot(xy, val, lightcolor)\n",
    "        \n",
    "        #: side labels\n",
    "        vert_text(-1, (h / 2), '− ⟵ Offset')  # unicode minus sign\n",
    "        horz_text((w / 2), (h + 1), 'Offset ⟶ +')\n",
    "        \n",
    "        format_graph(dia, fontsize)\n",
    "        return None\n",
    "        \n",
    "    \n",
    "    #: animate highlights\n",
    "    dur = 10\n",
    "    data = dia.tocoo().todia().data  # reformat dia.data to have falsy values where excess data\n",
    "    lex = np.lexsort(dia.offsets[np.newaxis])  # new data did not preserve order\n",
    "    for i, (offset, d_row) in enumerate(zip(dia.offsets, data[lex])):\n",
    "        signed_zero = 0.0 * np.sign(offset)\n",
    "        amount = abs(offset) + 1\n",
    "        linspace = np.linspace(signed_zero, offset, amount)\n",
    "        offs = np.r_[[np.nan] * dur, np.repeat(linspace, dur / 2), [offset] * 2 * dur]\n",
    "        alphas = np.r_[[1] * (len(offs) - dur), 1:0:complex(dur)]\n",
    "\n",
    "        for off, alpha in zip(offs, alphas):\n",
    "            plot_static_img()\n",
    "            \n",
    "            #: unhighlighted\n",
    "            if np.isnan(off):\n",
    "                save_step(filename, next(step_counter))\n",
    "                continue\n",
    "            \n",
    "            #: highlight offset\n",
    "            xy = ((w + i + 1), (h - 2))\n",
    "            highlight_plot(xy, darkcolor, alpha)\n",
    "\n",
    "            #: highlight data\n",
    "            for j, val in enumerate(d_row):\n",
    "                xy = ((w + j + 1), (h - i - 4))\n",
    "                color = darkcolor if val else 'none'\n",
    "                highlight_plot(xy, color, alpha)\n",
    "\n",
    "            #: highlight diagonals\n",
    "            coo = sparse.eye(*dia.shape, k=int(off), dtype=dia.dtype).tocoo()\n",
    "            for x, y, val in zip(coo.col, coo.row, coo.data):\n",
    "                xy = (x, (h - y - 1))\n",
    "                color = darkcolor if (off == offset) else 'none'\n",
    "                highlight_plot(xy, color, alpha)\n",
    "                \n",
    "            #: side labeling for offset\n",
    "            if offset <= 0:\n",
    "                xy = (-0.6, (h + off))  # label on side\n",
    "            else:\n",
    "                xy = ((off - 0.6), h)  # label on top\n",
    "            s = f'{off:+0.0f}'\n",
    "            square_text(xy, s, alpha=alpha, fontweight=1000, \n",
    "                        ha='right', va='top')  # using ha/va to avoid functools.partial conflicts\n",
    "        \n",
    "            save_step(filename, next(step_counter))\n",
    "\n",
    "    make_gif(filename, duration, start_extra=8)"
   ]
  },
  {
   "cell_type": "code",
   "execution_count": 136,
   "metadata": {},
   "outputs": [
    {
     "data": {
      "text/plain": [
       "<Figure size 1152x576 with 0 Axes>"
      ]
     },
     "metadata": {},
     "output_type": "display_data"
    }
   ],
   "source": [
    "data = np.arange(15).reshape(3, -1) + 1\n",
    "offsets = np.array([0, -3, 2])\n",
    "dia = sparse.dia_matrix((data, offsets), shape=(7, 5))\n",
    "dia_plot(dia, 'darkkhaki', 'khaki', duration=100)"
   ]
  },
  {
   "cell_type": "code",
   "execution_count": null,
   "metadata": {},
   "outputs": [],
   "source": []
  }
 ],
 "metadata": {
  "kernelspec": {
   "display_name": "Python 3",
   "language": "python",
   "name": "python3"
  },
  "language_info": {
   "codemirror_mode": {
    "name": "ipython",
    "version": 3
   },
   "file_extension": ".py",
   "mimetype": "text/x-python",
   "name": "python",
   "nbconvert_exporter": "python",
   "pygments_lexer": "ipython3",
   "version": "3.6.8"
  }
 },
 "nbformat": 4,
 "nbformat_minor": 2
}
