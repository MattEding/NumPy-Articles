{
 "cells": [
  {
   "cell_type": "code",
   "execution_count": 8,
   "metadata": {},
   "outputs": [],
   "source": [
    "from functools import partial\n",
    "from pathlib import Path\n",
    "\n",
    "import matplotlib.pyplot as plt\n",
    "import numpy as np\n",
    "from scipy import sparse\n",
    "from PIL import Image"
   ]
  },
  {
   "cell_type": "code",
   "execution_count": 53,
   "metadata": {},
   "outputs": [
    {
     "data": {
      "text/plain": [
       "(array([2, 4, 9]),\n",
       " array([1, 4, 2], dtype=int32),\n",
       " array([1, 3, 0], dtype=int32),\n",
       " <5x1 sparse matrix of type '<class 'numpy.int64'>'\n",
       " \twith 0 stored elements in Compressed Sparse Row format>,\n",
       " False,\n",
       " (5, 5),\n",
       " 3)"
      ]
     },
     "execution_count": 53,
     "metadata": {},
     "output_type": "execute_result"
    }
   ],
   "source": [
    "coo.data, coo.col, coo.row, coo.getcol(0), coo.has_canonical_format, coo.shape, coo.nnz"
   ]
  },
  {
   "cell_type": "code",
   "execution_count": 54,
   "metadata": {},
   "outputs": [],
   "source": [
    "def array_plot(arr, size, xoff=0, yoff=0, alpha=1, color=None, text=True, **kwargs):    \n",
    "    # get coordinates\n",
    "    ys, xs = np.indices(arr.shape)\n",
    "    idxs = [tuple(idx) for idx in np.column_stack([ys.ravel(), xs.ravel()])]\n",
    "    xs = xoff + xs\n",
    "    ys = yoff + ys\n",
    "    xys = np.column_stack([xs.ravel(), ys.ravel()])\n",
    "  \n",
    "    lw = 3 * size / 10\n",
    "    \n",
    "    filldata = []\n",
    "    for xy, idx in zip(xys, idxs):\n",
    "        if not arr[idx]:\n",
    "#             rect = plt.Rectangle(xy - 0.5, 1, 1, color=color, **kwargs)\n",
    "            border = plt.Rectangle(xy - 0.5, 1, 1, linewidth=lw, facecolor='none', linestyle='--', edgecolor='k', alpha=alpha, **kwargs)\n",
    "            plt.gca().add_patch(border)\n",
    "        else:\n",
    "            filldata.append(xy)\n",
    "    \n",
    "    for xy in filldata:\n",
    "        rect = plt.Rectangle(xy - 0.5, 1, 1, color=color, **kwargs)\n",
    "        plt.gca().add_patch(rect)\n",
    "        border = plt.Rectangle(xy - 0.5, 1, 1, linewidth=lw, facecolor='none', edgecolor='k', alpha=alpha, **kwargs)\n",
    "        plt.gca().add_patch(border)\n",
    "    \n",
    "    # display array values\n",
    "    if text:\n",
    "        for (x, y), val in zip(xys, arr.ravel()):\n",
    "            s = str(val)\n",
    "            x = x - 0.1 * len(s) - 0.01\n",
    "            y = y + 0.15\n",
    "            plt.text(x, y, s=s, fontsize=size * 1.5, fontweight=100, alpha=alpha)"
   ]
  },
  {
   "cell_type": "code",
   "execution_count": 50,
   "metadata": {},
   "outputs": [
    {
     "data": {
      "image/png": "[encoded data removed]",
      "text/plain": [
       "<Figure size 720x720 with 1 Axes>"
      ]
     },
     "metadata": {
      "needs_background": "light"
     },
     "output_type": "display_data"
    }
   ],
   "source": [
    "darkcolor = 'deepskyblue'\n",
    "lightcolor = 'lightskyblue'\n",
    "\n",
    "figsize = 10\n",
    "max_width = 5\n",
    "max_height = 5\n",
    "\n",
    "plt.figure(figsize=(figsize, figsize))\n",
    "arr_plt = partial(array_plot, size=figsize, xoff=1, yoff=1)\n",
    "\n",
    "canvas = np.zeros((max_height + 2, max_width + 2))\n",
    "plt.imshow(canvas, alpha=0, aspect='equal')\n",
    "plt.axis('off')\n",
    "# plt.text(12, 6.7, '© Matt Eding')\n",
    "\n",
    "arr_plt(arr)"
   ]
  },
  {
   "cell_type": "code",
   "execution_count": 124,
   "metadata": {},
   "outputs": [],
   "source": [
    "row = [1, 3, 0]\n",
    "col = [1, 4, 2]\n",
    "data = [2, 4, 9]\n",
    "coo = sparse.coo_matrix((data, (row, col)), shape=(6, 5))\n",
    "arr = coo.toarray()"
   ]
  },
  {
   "cell_type": "code",
   "execution_count": 128,
   "metadata": {},
   "outputs": [
    {
     "data": {
      "image/png": "[encoded data removed]",
      "text/plain": [
       "<Figure size 432x288 with 1 Axes>"
      ]
     },
     "metadata": {
      "needs_background": "light"
     },
     "output_type": "display_data"
    }
   ],
   "source": [
    "color = 'red'\n",
    "\n",
    "w, h = coo.shape\n",
    "for i in range(w + 1):\n",
    "    plt.plot([0, h], [i, i], color='black', linestyle='--')\n",
    "    \n",
    "for j in range(h + 1):\n",
    "    plt.plot([j, j], [0, w], color='black', linestyle='--')\n",
    "\n",
    "for x, y, val in zip(coo.col, coo.row, coo.data):\n",
    "    xy = (x, w - y - 1)\n",
    "    rect = plt.Rectangle(xy, 1, 1, color=color)\n",
    "    plt.gca().add_patch(rect)\n",
    "    border = plt.Rectangle(xy, 1, 1, facecolor='none', edgecolor='k')\n",
    "    plt.gca().add_patch(border)\n",
    "    \n",
    "    x, y = xy\n",
    "    s = str(val)\n",
    "    x = x + 0.5 * len(s)\n",
    "    y = y + 0.5\n",
    "    plt.text(x, y, s=s, fontweight=100)\n",
    "\n",
    "# plt.figure(figsize=(10, 10))\n",
    "plt.axis('equal')\n",
    "plt.axis('off');\n",
    "# plt.tight_layout()"
   ]
  },
  {
   "cell_type": "code",
   "execution_count": 126,
   "metadata": {},
   "outputs": [
    {
     "data": {
      "text/plain": [
       "array([[0, 0, 9, 0, 0],\n",
       "       [0, 2, 0, 0, 0],\n",
       "       [0, 0, 0, 0, 0],\n",
       "       [0, 0, 0, 0, 4],\n",
       "       [0, 0, 0, 0, 0],\n",
       "       [0, 0, 0, 0, 0]])"
      ]
     },
     "execution_count": 126,
     "metadata": {},
     "output_type": "execute_result"
    }
   ],
   "source": [
    "coo.toarray()"
   ]
  },
  {
   "cell_type": "code",
   "execution_count": null,
   "metadata": {},
   "outputs": [],
   "source": []
  }
 ],
 "metadata": {
  "kernelspec": {
   "display_name": "Python 3",
   "language": "python",
   "name": "python3"
  },
  "language_info": {
   "codemirror_mode": {
    "name": "ipython",
    "version": 3
   },
   "file_extension": ".py",
   "mimetype": "text/x-python",
   "name": "python",
   "nbconvert_exporter": "python",
   "pygments_lexer": "ipython3",
   "version": "3.6.8"
  }
 },
 "nbformat": 4,
 "nbformat_minor": 2
}
