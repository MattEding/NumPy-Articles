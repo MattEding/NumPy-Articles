{
 "cells": [
  {
   "cell_type": "code",
   "execution_count": 114,
   "metadata": {},
   "outputs": [],
   "source": [
    "from functools import partial\n",
    "from itertools import count\n",
    "from pathlib import Path\n",
    "\n",
    "import matplotlib.pyplot as plt\n",
    "import numpy as np\n",
    "from PIL import Image"
   ]
  },
  {
   "cell_type": "code",
   "execution_count": 84,
   "metadata": {},
   "outputs": [],
   "source": [
    "def array_plot(arr, size, xoff=0, yoff=0, alpha=1, color=None, text=True, **kwargs):    \n",
    "    # get coordinates\n",
    "    ys, xs = np.indices(arr.shape)\n",
    "    idxs = [tuple(idx) for idx in np.column_stack([ys.ravel(), xs.ravel()])]\n",
    "    xs = xoff + xs\n",
    "    ys = yoff + ys\n",
    "    xys = np.column_stack([xs.ravel(), ys.ravel()])\n",
    "  \n",
    "    for xy, idx in zip(xys, idxs):\n",
    "        if arr[idx] is np.True_:\n",
    "            rect = plt.Rectangle(xy - 0.5, 1, 1, color=color, alpha=alpha, **kwargs)\n",
    "        else:\n",
    "            rect = plt.Rectangle(xy - 0.5, 1, 1, color=color, **kwargs)\n",
    "        plt.gca().add_patch(rect)\n",
    "        \n",
    "        lw = 3 * size / 10\n",
    "        border = plt.Rectangle(xy - 0.5, 1, 1, linewidth=lw, facecolor='none', edgecolor='k', **kwargs)\n",
    "        plt.gca().add_patch(border)\n",
    "    \n",
    "    # display array values\n",
    "    if text:\n",
    "        for (x, y), idx, val in zip(xys, idxs, arr.ravel()):\n",
    "            s = str(val)\n",
    "            if arr.dtype == np.bool_:\n",
    "                s = s[0]\n",
    "                \n",
    "            x = x - 0.1 * len(s) - 0.01\n",
    "            y = y + 0.15                \n",
    "            plt.text(x, y, s=s, fontsize=size * 1.5, fontweight=100, alpha=alpha)"
   ]
  },
  {
   "cell_type": "code",
   "execution_count": 137,
   "metadata": {},
   "outputs": [
    {
     "data": {
      "image/png": "[encoded data removed]",
      "text/plain": [
       "<Figure size 1584x1584 with 1 Axes>"
      ]
     },
     "metadata": {
      "needs_background": "light"
     },
     "output_type": "display_data"
    }
   ],
   "source": [
    "color = 'mediumaquamarine'\n",
    "figsize = 22\n",
    "max_width = 13\n",
    "max_height = 4\n",
    "\n",
    "def plot_ndim(arr, color, xo, yo, alpha=1):\n",
    "    dim_plt = partial(arr_plt, color=color, alpha=alpha)\n",
    "    dim_plt(arr, xoff=xo, yoff=yo)\n",
    "\n",
    "\n",
    "### RANGE 2D-GRID\n",
    "height, width = 4, 6\n",
    "rng = np.arange(height * width).reshape(height, width)\n",
    "\n",
    "mask = np.array([[0, 1, 0, 0, 1, 0],\n",
    "                 [0, 0, 0, 0, 0, 0],\n",
    "                 [0, 1, 0, 0, 1, 0],\n",
    "                 [0, 1, 1, 1, 1, 0]]).astype(bool)\n",
    "\n",
    "steps = 20\n",
    "shader = np.linspace(0.9, 0, steps)\n",
    "mover = np.linspace(8, 1, steps)\n",
    "\n",
    "    \n",
    "def darken_mask(shade, idx):   \n",
    "    plt.figure(figsize=(figsize, figsize))\n",
    "    arr_plt = partial(array_plot, size=figsize)\n",
    "\n",
    "    canvas = np.zeros((max_height + 2, max_width + 2))\n",
    "    plt.imshow(canvas, alpha=0, aspect='equal')\n",
    "    plt.axis('off')\n",
    "\n",
    "    plt.text(10, 5, '© Matt Eding')\n",
    "    plot_ndim(rng, color, 1, 1)\n",
    "    plot_ndim(mask, str(shade), max(mover), 1, alpha=shade)\n",
    "    plt.savefig(f'mask_{idx:>3}.png', bbox_inches='tight')\n",
    "    \n",
    "def move_mask(move, idx):\n",
    "    plt.figure(figsize=(figsize, figsize))\n",
    "    arr_plt = partial(array_plot, size=figsize)\n",
    "\n",
    "    canvas = np.zeros((max_height + 2, max_width + 2))\n",
    "    plt.imshow(canvas, alpha=0, aspect='equal')\n",
    "    plt.axis('off')\n",
    "\n",
    "    plt.text(10, 5, '© Matt Eding')\n",
    "    plot_ndim(rng, color, 1, 1)\n",
    "    plot_ndim(mask, '0', move, 1, alpha=0)\n",
    "    plt.savefig(f'mask_{idx:>3}.png', bbox_inches='tight')\n",
    "    \n",
    "\n",
    "idx_counter = count()\n",
    "# for shade in shader:\n",
    "#     darken_mask(shade, next(idx_counter))\n",
    "\n",
    "# for move in mover:\n",
    "#     move_mask(move, next(idx_counter))"
   ]
  },
  {
   "cell_type": "code",
   "execution_count": 128,
   "metadata": {},
   "outputs": [],
   "source": [
    "cwd = Path.cwd()\n",
    "paths = sorted(p for p in cwd.iterdir() if 'png' in p.suffix)\n",
    "\n",
    "imgs = [Image.open(p) for p in paths]\n",
    "for _ in range(10):\n",
    "    imgs.insert(0, imgs[0])  # make start last longer\n",
    "for _ in range(10):\n",
    "    imgs.append(imgs[-1])  # make end last longest\n",
    "    \n",
    "imgs.extend(imgs[::-1])  # make it loop back from end to start\n",
    "imgs[0].save('mask.gif', save_all=True, append_images=imgs, duration=100, loop=0)"
   ]
  },
  {
   "cell_type": "code",
   "execution_count": null,
   "metadata": {},
   "outputs": [],
   "source": []
  }
 ],
 "metadata": {
  "kernelspec": {
   "display_name": "Python 3",
   "language": "python",
   "name": "python3"
  },
  "language_info": {
   "codemirror_mode": {
    "name": "ipython",
    "version": 3
   },
   "file_extension": ".py",
   "mimetype": "text/x-python",
   "name": "python",
   "nbconvert_exporter": "python",
   "pygments_lexer": "ipython3",
   "version": "3.6.8"
  }
 },
 "nbformat": 4,
 "nbformat_minor": 2
}
